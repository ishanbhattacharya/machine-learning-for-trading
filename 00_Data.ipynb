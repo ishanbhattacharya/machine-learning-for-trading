{
 "cells": [
  {
   "cell_type": "code",
   "execution_count": 1,
   "id": "7826b3a5",
   "metadata": {},
   "outputs": [],
   "source": [
    "# Imports\n",
    "import pandas as pd\n",
    "import yfinance as yf\n",
    "import pandas_datareader.data as web"
   ]
  },
  {
   "cell_type": "markdown",
   "id": "0cf09cb0",
   "metadata": {},
   "source": [
    "### Getting the data"
   ]
  },
  {
   "cell_type": "code",
   "execution_count": null,
   "id": "8356a768",
   "metadata": {},
   "outputs": [],
   "source": [
    "# Getting list of S&P500 stocks\n",
    "sp_url = 'https://en.wikipedia.org/wiki/List_of_S%26P_500_companies'\n",
    "sp500_constituents = pd.read_html(sp_url, header=0)[0]"
   ]
  },
  {
   "cell_type": "code",
   "execution_count": null,
   "id": "b92122a2",
   "metadata": {},
   "outputs": [],
   "source": [
    "# Replacing '.' with '-' as Yahoo Finance\n",
    "for x in range(len(sp500_constituents)):\n",
    "    sp500_constituents.iloc[x, 0] = sp500_constituents.iloc[x, 0].replace('.','-')"
   ]
  },
  {
   "cell_type": "code",
   "execution_count": null,
   "id": "543bdfec",
   "metadata": {},
   "outputs": [],
   "source": [
    "# Making directory for storing data\n",
    "data_path = Path('./data/')\n",
    "if not data_path.exists():\n",
    "        print('Creating directory')\n",
    "        data_path.mkdir()\n",
    "    else: \n",
    "        print('Directory exists')"
   ]
  },
  {
   "cell_type": "code",
   "execution_count": null,
   "id": "d5aa36db",
   "metadata": {},
   "outputs": [],
   "source": [
    "# Getting company details from Yahoo Finance\n",
    "info = pd.DataFrame(columns=pd.DataFrame(pd.Series(yf.Ticker('ABT').info)).T.columns)\n",
    "for symbol in sp500_constituents.Symbol:\n",
    "    try:\n",
    "        print(symbol)\n",
    "        ticker = yf.Ticker(symbol)\n",
    "        financial = pd.Series(ticker.info)\n",
    "        info = info.append(pd.DataFrame(financial).T)\n",
    "    except:\n",
    "        print(symbol, \"didn't load! Try again.\")\n",
    "info.set_index(keys=[\"symbol\"], inplace=True)\n",
    "info.index.name = \"Ticker\"\n",
    "info.to_csv('./data/info.csv')"
   ]
  },
  {
   "cell_type": "code",
   "execution_count": null,
   "id": "244f8325",
   "metadata": {},
   "outputs": [],
   "source": [
    "# Getting quarterly financials from Yahoo Finance\n",
    "financials = pd.DataFrame()\n",
    "for symbol in sp500_constituents.Symbol:\n",
    "    try:\n",
    "        #print(symbol)\n",
    "        ticker = yf.Ticker(symbol)\n",
    "        financial = ticker.quarterly_financials.transpose()\n",
    "        financial.index.name = \"Date\"\n",
    "        financial[\"Ticker\"] = f'{symbol}'\n",
    "        financial.reset_index(inplace=True)\n",
    "        financial.set_index([\"Ticker\", \"Date\"], inplace=True)\n",
    "        financials = financials.append(financial)\n",
    "    except:\n",
    "        print(symbol, \"didn't load! Try again.\")\n",
    "financials.to_csv('./data/financials.csv')"
   ]
  },
  {
   "cell_type": "code",
   "execution_count": null,
   "id": "12af0cdb",
   "metadata": {},
   "outputs": [],
   "source": [
    "# Getting quarterly balance sheets from Yahoo Finance\n",
    "balances = pd.DataFrame()\n",
    "for symbol in sp500_constituents.Symbol:\n",
    "    try:\n",
    "        #print(symbol)\n",
    "        ticker = yf.Ticker(symbol)\n",
    "        financial = ticker.quarterly_balance_sheet.transpose()\n",
    "        financial.index.name = \"Date\"\n",
    "        financial[\"Ticker\"] = f'{symbol}'\n",
    "        financial.reset_index(inplace=True)\n",
    "        financial.set_index([\"Ticker\", \"Date\"], inplace=True)\n",
    "        balances = balances.append(financial)\n",
    "    except:\n",
    "        print(symbol, \"didn't load! Try again.\")\n",
    "balances.to_csv('./data/balances.csv')"
   ]
  },
  {
   "cell_type": "code",
   "execution_count": null,
   "id": "348b12b6",
   "metadata": {},
   "outputs": [],
   "source": [
    "# Getting quarterly cashflow statements from Yahoo Finance\n",
    "cashflow = pd.DataFrame()\n",
    "for symbol in sp500_constituents.Symbol:\n",
    "    try:\n",
    "        #print(symbol)\n",
    "        ticker = yf.Ticker(symbol)\n",
    "        financial = ticker.quarterly_cashflow.transpose()\n",
    "        financial.index.name = \"Date\"\n",
    "        financial[\"Ticker\"] = f'{symbol}'\n",
    "        financial.reset_index(inplace=True)\n",
    "        financial.set_index([\"Ticker\", \"Date\"], inplace=True)\n",
    "        cashflow = cashflow.append(financial)\n",
    "    except:\n",
    "        print(symbol, \"didn't load! Try again.\")\n",
    "cashflow.to_csv('./data/cashflow.csv')"
   ]
  },
  {
   "cell_type": "code",
   "execution_count": null,
   "id": "370d987d",
   "metadata": {},
   "outputs": [],
   "source": [
    "# Getting quarterly earnings from Yahoo Finance\n",
    "earnings = pd.DataFrame()\n",
    "for symbol in sp500_constituents.Symbol:\n",
    "    try:\n",
    "        #print(symbol)\n",
    "        ticker = yf.Ticker(symbol)\n",
    "        financial = ticker.quarterly_earnings\n",
    "        financial[\"Ticker\"] = f'{symbol}'\n",
    "        financial.reset_index(inplace=True)\n",
    "        financial.set_index([\"Ticker\", \"Quarter\"], inplace=True)\n",
    "        earnings = earnings.append(financial)\n",
    "    except:\n",
    "        print(symbol, \"didn't load! Try again.\")\n",
    "earnings.to_csv('./data/earnings.csv')"
   ]
  },
  {
   "cell_type": "code",
   "execution_count": null,
   "id": "0c4cee40",
   "metadata": {},
   "outputs": [],
   "source": [
    "# Getting market data from Yahoo Finance\n",
    "ohlcv = pd.DataFrame()\n",
    "for symbol in sp500_constituents.Symbol:\n",
    "    try:\n",
    "        #print(symbol)\n",
    "        ticker = yf.Ticker(symbol)\n",
    "        market = ticker.history(start='2014-01-02', end='2020-12-31', actions=True, auto_adjust=True, back_adjust=False)\n",
    "        market[\"Ticker\"] = f'{symbol}'\n",
    "        market.reset_index(inplace=True)\n",
    "        market.sort_values(by=[\"Date\"], ascending=False, inplace=True)\n",
    "        market.set_index([\"Ticker\", \"Date\"], inplace=True)\n",
    "        ohlcv = ohlcv.append(market.drop(columns=[\"Dividends\", \"Stock Splits\"]))\n",
    "    except:\n",
    "        print(symbol, \"didn't load! Try again.\")\n",
    "ohlcv.to_csv('./data/ohlcv.csv')"
   ]
  }
 ],
 "metadata": {
  "kernelspec": {
   "display_name": "Python 3 (ipykernel)",
   "language": "python",
   "name": "python3"
  },
  "language_info": {
   "codemirror_mode": {
    "name": "ipython",
    "version": 3
   },
   "file_extension": ".py",
   "mimetype": "text/x-python",
   "name": "python",
   "nbconvert_exporter": "python",
   "pygments_lexer": "ipython3",
   "version": "3.8.11"
  }
 },
 "nbformat": 4,
 "nbformat_minor": 5
}
